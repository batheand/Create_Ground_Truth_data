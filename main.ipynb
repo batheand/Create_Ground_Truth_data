{
 "cells": [
  {
   "cell_type": "markdown",
   "metadata": {},
   "source": [
    "## RUN ONCE"
   ]
  },
  {
   "cell_type": "code",
   "execution_count": 7,
   "metadata": {},
   "outputs": [
    {
     "name": "stdout",
     "output_type": "stream",
     "text": [
      "Cloning into 'SuperGluePretrainedNetwork'...\n",
      "remote: Enumerating objects: 185, done.\u001b[K\n",
      "remote: Counting objects: 100% (1/1), done.\u001b[K\n",
      "remote: Total 185 (delta 0), reused 0 (delta 0), pack-reused 184 (from 2)\u001b[K\n",
      "Receiving objects: 100% (185/185), 118.85 MiB | 1.37 MiB/s, done.\n",
      "Resolving deltas: 100% (52/52), done.\n"
     ]
    }
   ],
   "source": [
    "!git clone https://github.com/magicleap/SuperGluePretrainedNetwork.git"
   ]
  },
  {
   "cell_type": "code",
   "execution_count": 8,
   "metadata": {},
   "outputs": [
    {
     "name": "stdout",
     "output_type": "stream",
     "text": [
      "Requirement already satisfied: torch in /Library/Frameworks/Python.framework/Versions/3.12/lib/python3.12/site-packages (2.5.1)\n",
      "Requirement already satisfied: torchvision in /Library/Frameworks/Python.framework/Versions/3.12/lib/python3.12/site-packages (0.20.1)\n",
      "Requirement already satisfied: numpy in /Library/Frameworks/Python.framework/Versions/3.12/lib/python3.12/site-packages (1.26.4)\n",
      "Requirement already satisfied: opencv-python in /Library/Frameworks/Python.framework/Versions/3.12/lib/python3.12/site-packages (4.10.0.84)\n",
      "Requirement already satisfied: filelock in /Library/Frameworks/Python.framework/Versions/3.12/lib/python3.12/site-packages (from torch) (3.16.1)\n",
      "Requirement already satisfied: typing-extensions>=4.8.0 in /Library/Frameworks/Python.framework/Versions/3.12/lib/python3.12/site-packages (from torch) (4.10.0)\n",
      "Requirement already satisfied: networkx in /Library/Frameworks/Python.framework/Versions/3.12/lib/python3.12/site-packages (from torch) (3.4.2)\n",
      "Requirement already satisfied: jinja2 in /Library/Frameworks/Python.framework/Versions/3.12/lib/python3.12/site-packages (from torch) (3.1.4)\n",
      "Requirement already satisfied: fsspec in /Library/Frameworks/Python.framework/Versions/3.12/lib/python3.12/site-packages (from torch) (2024.10.0)\n",
      "Requirement already satisfied: setuptools in /Library/Frameworks/Python.framework/Versions/3.12/lib/python3.12/site-packages (from torch) (69.1.1)\n",
      "Requirement already satisfied: sympy==1.13.1 in /Library/Frameworks/Python.framework/Versions/3.12/lib/python3.12/site-packages (from torch) (1.13.1)\n",
      "Requirement already satisfied: mpmath<1.4,>=1.1.0 in /Library/Frameworks/Python.framework/Versions/3.12/lib/python3.12/site-packages (from sympy==1.13.1->torch) (1.3.0)\n",
      "Requirement already satisfied: pillow!=8.3.*,>=5.3.0 in /Library/Frameworks/Python.framework/Versions/3.12/lib/python3.12/site-packages (from torchvision) (10.2.0)\n",
      "Requirement already satisfied: MarkupSafe>=2.0 in /Library/Frameworks/Python.framework/Versions/3.12/lib/python3.12/site-packages (from jinja2->torch) (2.1.5)\n",
      "\n",
      "\u001b[1m[\u001b[0m\u001b[34;49mnotice\u001b[0m\u001b[1;39;49m]\u001b[0m\u001b[39;49m A new release of pip is available: \u001b[0m\u001b[31;49m24.3.1\u001b[0m\u001b[39;49m -> \u001b[0m\u001b[32;49m25.0.1\u001b[0m\n",
      "\u001b[1m[\u001b[0m\u001b[34;49mnotice\u001b[0m\u001b[1;39;49m]\u001b[0m\u001b[39;49m To update, run: \u001b[0m\u001b[32;49mpip install --upgrade pip\u001b[0m\n",
      "Requirement already satisfied: matplotlib>=3.1.3 in /Library/Frameworks/Python.framework/Versions/3.12/lib/python3.12/site-packages (from -r requirements.txt (line 1)) (3.8.3)\n",
      "Requirement already satisfied: torch>=1.1.0 in /Library/Frameworks/Python.framework/Versions/3.12/lib/python3.12/site-packages (from -r requirements.txt (line 2)) (2.5.1)\n",
      "\u001b[31mERROR: Ignored the following yanked versions: 3.4.11.39, 3.4.17.61, 4.4.0.42, 4.4.0.44, 4.5.4.58, 4.5.5.62, 4.7.0.68\u001b[0m\u001b[31m\n",
      "\u001b[0m\u001b[31mERROR: Could not find a version that satisfies the requirement opencv-python==4.1.2.30 (from versions: 3.4.0.14, 3.4.10.37, 3.4.11.41, 3.4.11.43, 3.4.11.45, 3.4.13.47, 3.4.15.55, 3.4.16.57, 3.4.16.59, 3.4.17.63, 3.4.18.65, 4.3.0.38, 4.4.0.40, 4.4.0.46, 4.5.1.48, 4.5.3.56, 4.5.4.60, 4.5.5.64, 4.6.0.66, 4.7.0.72, 4.8.0.74, 4.8.0.76, 4.8.1.78, 4.9.0.80, 4.10.0.82, 4.10.0.84, 4.11.0.86)\u001b[0m\u001b[31m\n",
      "\u001b[0m\n",
      "\u001b[1m[\u001b[0m\u001b[34;49mnotice\u001b[0m\u001b[1;39;49m]\u001b[0m\u001b[39;49m A new release of pip is available: \u001b[0m\u001b[31;49m24.3.1\u001b[0m\u001b[39;49m -> \u001b[0m\u001b[32;49m25.0.1\u001b[0m\n",
      "\u001b[1m[\u001b[0m\u001b[34;49mnotice\u001b[0m\u001b[1;39;49m]\u001b[0m\u001b[39;49m To update, run: \u001b[0m\u001b[32;49mpip install --upgrade pip\u001b[0m\n",
      "\u001b[31mERROR: No matching distribution found for opencv-python==4.1.2.30\u001b[0m\u001b[31m\n",
      "\u001b[0m"
     ]
    }
   ],
   "source": [
    "!pip install torch torchvision numpy opencv-python\n",
    "!cd SuperGluePretrainedNetwork && pip install -r requirements.txt"
   ]
  },
  {
   "cell_type": "markdown",
   "metadata": {},
   "source": [
    "## Setup"
   ]
  },
  {
   "cell_type": "code",
   "execution_count": 1,
   "metadata": {},
   "outputs": [],
   "source": [
    "import sys\n",
    "import os\n",
    "\n",
    "# Add the models directory to Python path\n",
    "sys.path.append(os.path.abspath(\"SuperGluePretrainedNetwork\"))\n",
    "\n",
    "# Now import the models\n",
    "from SuperGluePretrainedNetwork.models.superpoint import SuperPoint\n",
    "from SuperGluePretrainedNetwork.models.superglue import SuperGlue"
   ]
  },
  {
   "cell_type": "code",
   "execution_count": 2,
   "metadata": {},
   "outputs": [
    {
     "name": "stdout",
     "output_type": "stream",
     "text": [
      "None\n",
      "True\n",
      "device: cpu\n"
     ]
    }
   ],
   "source": [
    "%run GroundTruthGenerator.py"
   ]
  },
  {
   "cell_type": "markdown",
   "metadata": {},
   "source": [
    "## Main Running Section"
   ]
  },
  {
   "cell_type": "markdown",
   "metadata": {},
   "source": [
    "## Debugging/Test Cases"
   ]
  },
  {
   "cell_type": "code",
   "execution_count": 3,
   "metadata": {},
   "outputs": [
    {
     "name": "stdout",
     "output_type": "stream",
     "text": [
      "Will process pairs: ['IM_00006', 'IM_00293', 'IM_00450', 'IM_01348', 'IM_02493', 'IM_04031', 'IM_04490', 'IM_04694', 'IM_05143', 'IM_05570', 'IM_07032', 'IM_07161', 'IM_07364', 'IM_08432', 'IM_08816', 'IM_09030', 'IM_09452', 'IM_10485', 'IM_10589', 'IM_14074']\n",
      "Loaded SuperPoint model\n",
      "Loaded SuperGlue model (\"indoor\" weights)\n",
      "[GroundTruthGenerator] Models loaded on cpu\n",
      "[DEBUG] Initializing GroundTruthGenerator with data_dir: test_data and backend_dir: homography_matrix\n",
      "Loaded SuperPoint model\n",
      "Loaded SuperGlue model (\"indoor\" weights)\n"
     ]
    },
    {
     "name": "stderr",
     "output_type": "stream",
     "text": [
      "/Users/canmizrakli/Desktop/8th semester/CMPE 492/Create_Ground_Truth_data/SuperGluePretrainedNetwork/models/superpoint.py:137: FutureWarning: You are using `torch.load` with `weights_only=False` (the current default value), which uses the default pickle module implicitly. It is possible to construct malicious pickle data which will execute arbitrary code during unpickling (See https://github.com/pytorch/pytorch/blob/main/SECURITY.md#untrusted-models for more details). In a future release, the default value for `weights_only` will be flipped to `True`. This limits the functions that could be executed during unpickling. Arbitrary objects will no longer be allowed to be loaded via this mode unless they are explicitly allowlisted by the user via `torch.serialization.add_safe_globals`. We recommend you start setting `weights_only=True` for any use case where you don't have full control of the loaded file. Please open an issue on GitHub for any issues related to this experimental feature.\n",
      "  self.load_state_dict(torch.load(str(path)))\n",
      "/Users/canmizrakli/Desktop/8th semester/CMPE 492/Create_Ground_Truth_data/SuperGluePretrainedNetwork/models/superglue.py:226: FutureWarning: You are using `torch.load` with `weights_only=False` (the current default value), which uses the default pickle module implicitly. It is possible to construct malicious pickle data which will execute arbitrary code during unpickling (See https://github.com/pytorch/pytorch/blob/main/SECURITY.md#untrusted-models for more details). In a future release, the default value for `weights_only` will be flipped to `True`. This limits the functions that could be executed during unpickling. Arbitrary objects will no longer be allowed to be loaded via this mode unless they are explicitly allowlisted by the user via `torch.serialization.add_safe_globals`. We recommend you start setting `weights_only=True` for any use case where you don't have full control of the loaded file. Please open an issue on GitHub for any issues related to this experimental feature.\n",
      "  self.load_state_dict(torch.load(str(path)))\n"
     ]
    },
    {
     "name": "stdout",
     "output_type": "stream",
     "text": [
      "[DEBUG] User approved 1 matches.\n",
      "[DEBUG] Ground truth file written for pair: IM_00006\n",
      "[DEBUG] User approved 39 matches.\n",
      "[DEBUG] Ground truth file written for pair: IM_00293\n",
      "[DEBUG] User approved 97 matches.\n",
      "[DEBUG] Ground truth file written for pair: IM_00450\n",
      "[DEBUG] User approved 1 matches.\n",
      "[DEBUG] Ground truth file written for pair: IM_01348\n",
      "[DEBUG] User approved 30 matches.\n",
      "[DEBUG] Ground truth file written for pair: IM_02493\n",
      "[DEBUG] User approved 40 matches.\n",
      "[DEBUG] Ground truth file written for pair: IM_04031\n",
      "[DEBUG] User approved 66 matches.\n",
      "[DEBUG] Ground truth file written for pair: IM_04490\n",
      "[DEBUG] User approved 38 matches.\n",
      "[DEBUG] Ground truth file written for pair: IM_04694\n",
      "[DEBUG] User approved 7 matches.\n",
      "[DEBUG] Ground truth file written for pair: IM_05143\n",
      "[DEBUG] User approved 19 matches.\n",
      "[DEBUG] Ground truth file written for pair: IM_05570\n",
      "[DEBUG] User approved 8 matches.\n",
      "[DEBUG] Ground truth file written for pair: IM_07032\n",
      "[DEBUG] User approved 4 matches.\n",
      "[DEBUG] Ground truth file written for pair: IM_07161\n",
      "[DEBUG] User approved 26 matches.\n",
      "[DEBUG] Ground truth file written for pair: IM_07364\n",
      "[DEBUG] User approved 18 matches.\n",
      "[DEBUG] Ground truth file written for pair: IM_08432\n",
      "[DEBUG] User approved 53 matches.\n",
      "[DEBUG] Ground truth file written for pair: IM_08816\n",
      "[DEBUG] User approved 30 matches.\n",
      "[DEBUG] Ground truth file written for pair: IM_09030\n",
      "[DEBUG] User approved 40 matches.\n",
      "[DEBUG] Ground truth file written for pair: IM_09452\n",
      "[DEBUG] User approved 56 matches.\n",
      "[DEBUG] Ground truth file written for pair: IM_10485\n",
      "[DEBUG] User approved 45 matches.\n",
      "[DEBUG] Ground truth file written for pair: IM_10589\n",
      "[DEBUG] User approved 78 matches.\n",
      "[DEBUG] Ground truth file written for pair: IM_14074\n"
     ]
    }
   ],
   "source": [
    "# Cell: Test with two image pairs using the updated folder structure\n",
    "\n",
    "import os\n",
    "\n",
    "# Define the test data and output directories\n",
    "\"\"\"dataset_dir = \"test_data\"           # Root folder containing \"rgb\" and \"thermal\"\n",
    "test_output_dir = \"homography_matrix\"   # Folder for ground truth files\n",
    "\n",
    "# Ensure output directory exists\n",
    "os.makedirs(test_output_dir, exist_ok=True)\n",
    "\n",
    "# Define the pair IDs corresponding to your images (filenames without extension)\n",
    "pair_ids = [\"IM_00006\", \"IM_04490\"]\n",
    "\n",
    "# Instantiate the GroundTruthGenerator (ensure your module is updated to use the new ImageLoader)\n",
    "gt_generator = GroundTruthGenerator(dataset_dir, test_output_dir, pair_ids, debug=True)\n",
    "\n",
    "# Override the get_all_pair_ids method to return the two specific image pairs\n",
    "gt_generator.get_all_pair_ids = lambda debug=False: pair_ids\n",
    "\n",
    "# Run the generator workflow for both image pairs.\n",
    "gt_generator.run(debug=True)\"\"\"\n",
    "\n",
    "dataset_dir     = \"test_data\"\n",
    "rgb_dir         = os.path.join(dataset_dir, \"rgb\")\n",
    "thermal_dir     = os.path.join(dataset_dir, \"thermal\")\n",
    "test_output_dir = \"homography_matrix\"\n",
    "\n",
    "rgb_ids     = {os.path.splitext(f)[0]\n",
    "               for f in os.listdir(rgb_dir)\n",
    "               if f.lower().endswith(\".jpg\")}\n",
    "thermal_ids = {os.path.splitext(f)[0]\n",
    "               for f in os.listdir(thermal_dir)\n",
    "               if f.lower().endswith(\".jpg\")}\n",
    "\n",
    "pair_ids = sorted(rgb_ids & thermal_ids)\n",
    "print(\"Will process pairs:\", pair_ids)\n",
    "\n",
    "gt = GroundTruthGenerator(dataset_dir, test_output_dir, pair_ids, debug=True)\n",
    "gt.run()"
   ]
  },
  {
   "cell_type": "code",
   "execution_count": null,
   "metadata": {},
   "outputs": [],
   "source": []
  }
 ],
 "metadata": {
  "kernelspec": {
   "display_name": "Python 3",
   "language": "python",
   "name": "python3"
  },
  "language_info": {
   "codemirror_mode": {
    "name": "ipython",
    "version": 3
   },
   "file_extension": ".py",
   "mimetype": "text/x-python",
   "name": "python",
   "nbconvert_exporter": "python",
   "pygments_lexer": "ipython3",
   "version": "3.12.2"
  }
 },
 "nbformat": 4,
 "nbformat_minor": 2
}
