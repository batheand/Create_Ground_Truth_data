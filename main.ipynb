{
 "cells": [
  {
   "cell_type": "code",
   "execution_count": 1,
   "metadata": {},
   "outputs": [],
   "source": [
    "%run GroundTruthGenerator.py"
   ]
  },
  {
   "cell_type": "markdown",
   "metadata": {},
   "source": [
    "## Main Running Section"
   ]
  },
  {
   "cell_type": "markdown",
   "metadata": {},
   "source": [
    "## Debugging/Test Cases"
   ]
  },
  {
   "cell_type": "code",
   "execution_count": 2,
   "metadata": {},
   "outputs": [
    {
     "name": "stdout",
     "output_type": "stream",
     "text": [
      "Dummy images created in the 'test_data' directory.\n"
     ]
    }
   ],
   "source": [
    "# Cell 2: Setup test data directory and create dummy images for testing ImageLoader\n",
    "\n",
    "import os\n",
    "import cv2\n",
    "import numpy as np\n",
    "\n",
    "# Create a test data directory if it doesn't exist\n",
    "test_data_dir = \"test_data\"\n",
    "if not os.path.exists(test_data_dir):\n",
    "    os.makedirs(test_data_dir)\n",
    "\n",
    "# Create dummy images (simple colored images)\n",
    "dummy_rgb = np.zeros((100, 100, 3), dtype=np.uint8)\n",
    "dummy_rgb[:] = [255, 0, 0]  # Red image for RGB\n",
    "dummy_thermal = np.zeros((100, 100, 3), dtype=np.uint8)\n",
    "dummy_thermal[:] = [0, 255, 0]  # Green image for Thermal\n",
    "\n",
    "# Save dummy images using the expected naming convention: pair_test_rgb.jpg and pair_test_thermal.jpg\n",
    "cv2.imwrite(os.path.join(test_data_dir, \"pair_test_rgb.jpg\"), cv2.cvtColor(dummy_rgb, cv2.COLOR_RGB2BGR))\n",
    "cv2.imwrite(os.path.join(test_data_dir, \"pair_test_thermal.jpg\"), cv2.cvtColor(dummy_thermal, cv2.COLOR_RGB2BGR))\n",
    "\n",
    "print(\"Dummy images created in the 'test_data' directory.\")\n"
   ]
  },
  {
   "cell_type": "code",
   "execution_count": 3,
   "metadata": {},
   "outputs": [
    {
     "name": "stdout",
     "output_type": "stream",
     "text": [
      "[DEBUG] ImageLoader initialized with directory: test_data\n",
      "[DEBUG] Loading RGB image from: test_data/pair_test_rgb.jpg\n",
      "[DEBUG] Loading Thermal image from: test_data/pair_test_thermal.jpg\n",
      "[DEBUG] Loaded images shapes: RGB (100, 100, 3), Thermal (100, 100, 3)\n",
      "Loaded image shapes: (100, 100, 3) (100, 100, 3)\n"
     ]
    }
   ],
   "source": [
    "# Cell 3: Test the ImageLoader class with the dummy images\n",
    "\n",
    "# Instantiate ImageLoader with test data directory (enable debug)\n",
    "img_loader = ImageLoader(test_data_dir, debug=True)\n",
    "# Load the image pair for the id \"pair_test\"\n",
    "rgb_img, thermal_img = img_loader.load_image_pair(\"pair_test\", debug=True)\n",
    "print(\"Loaded image shapes:\", rgb_img.shape, thermal_img.shape)\n"
   ]
  },
  {
   "cell_type": "code",
   "execution_count": 4,
   "metadata": {},
   "outputs": [
    {
     "name": "stdout",
     "output_type": "stream",
     "text": [
      "[DEBUG] SuperPointExtractor (using ORB) initialized.\n",
      "[DEBUG] Extracting keypoints and descriptors.\n",
      "[DEBUG] Extracted 0 keypoints.\n",
      "Extracted 0 keypoints from the dummy RGB image.\n"
     ]
    }
   ],
   "source": [
    "# Cell 4: Test the SuperPointExtractor class using the dummy RGB image\n",
    "\n",
    "# Instantiate SuperPointExtractor (using ORB as a placeholder)\n",
    "sp_extractor = SuperPointExtractor(debug=True)\n",
    "keypoints, descriptors = sp_extractor.extract_keypoints(rgb_img, debug=True)\n",
    "print(f\"Extracted {len(keypoints)} keypoints from the dummy RGB image.\")\n"
   ]
  },
  {
   "cell_type": "code",
   "execution_count": 5,
   "metadata": {},
   "outputs": [
    {
     "name": "stdout",
     "output_type": "stream",
     "text": [
      "[DEBUG] Extracting keypoints and descriptors.\n",
      "[DEBUG] Extracted 0 keypoints.\n",
      "[DEBUG] Extracting keypoints and descriptors.\n",
      "[DEBUG] Extracted 0 keypoints.\n",
      "[DEBUG] SuperGlueMatcher (using BFMatcher) initialized.\n",
      "[DEBUG] Matching keypoints using BFMatcher.\n",
      "[DEBUG] Found 0 matches.\n",
      "Found 0 matches between the same image.\n"
     ]
    }
   ],
   "source": [
    "# Cell 5: Test the SuperGlueMatcher by matching keypoints between the same dummy image\n",
    "\n",
    "# Extract keypoints for both sides using the same image (for simplicity)\n",
    "keypoints1, descriptors1 = sp_extractor.extract_keypoints(rgb_img, debug=True)\n",
    "keypoints2, descriptors2 = sp_extractor.extract_keypoints(rgb_img, debug=True)\n",
    "\n",
    "# Instantiate SuperGlueMatcher and match keypoints (using BFMatcher)\n",
    "sg_matcher = SuperGlueMatcher(debug=True)\n",
    "matches = sg_matcher.match_keypoints((keypoints1, descriptors1), (keypoints2, descriptors2), debug=True)\n",
    "print(f\"Found {len(matches)} matches between the same image.\")\n"
   ]
  },
  {
   "cell_type": "code",
   "execution_count": 6,
   "metadata": {},
   "outputs": [
    {
     "name": "stdout",
     "output_type": "stream",
     "text": [
      "[DEBUG] MatchVisualizer initialized with 2 matches.\n",
      "[DEBUG] Preparing to display matches interactively.\n",
      "[DEBUG] Displaying figure with match lines. Click near a line to toggle selection.\n"
     ]
    },
    {
     "data": {
      "image/png": "[encoded data removed]",
      "text/plain": [
       "<Figure size 1000x800 with 1 Axes>"
      ]
     },
     "metadata": {},
     "output_type": "display_data"
    },
    {
     "name": "stdout",
     "output_type": "stream",
     "text": [
      "Interactively test the visualizer: Click near match lines to toggle selection.\n"
     ]
    }
   ],
   "source": [
    "# Cell 6: Test the MatchVisualizer interactively\n",
    "\n",
    "# If no valid matches were found, create dummy matches for demonstration.\n",
    "if not matches or matches == \"matches\":\n",
    "    matches = [((10, 10), (20, 20)), ((30, 30), (40, 40))]\n",
    "\n",
    "# Instantiate the MatchVisualizer with the dummy images and matches\n",
    "visualizer = MatchVisualizer(rgb_img, thermal_img, matches, debug=True)\n",
    "visualizer.display_matches(debug=True)\n",
    "print(\"Interactively test the visualizer: Click near match lines to toggle selection.\")\n",
    "# After interacting, you can run:\n",
    "# selected = visualizer.get_selected_matches(debug=True)\n",
    "# print(\"Selected matches:\", selected)\n"
   ]
  },
  {
   "cell_type": "code",
   "execution_count": 7,
   "metadata": {},
   "outputs": [
    {
     "name": "stdout",
     "output_type": "stream",
     "text": [
      "[DEBUG] GroundTruthFileWriter initialized with backend directory: test_output\n",
      "[DEBUG] Writing ground truth file to: test_output/pair_test_ground_truth.txt\n",
      "[DEBUG] Wrote match: 10.00 10.00 20.00 20.00\n",
      "[DEBUG] Wrote match: 30.00 30.00 40.00 40.00\n",
      "[DEBUG] Ground truth file writing complete.\n",
      "Contents of the ground truth file:\n",
      " 10.00 10.00 20.00 20.00\n",
      "30.00 30.00 40.00 40.00\n",
      "\n"
     ]
    }
   ],
   "source": [
    "# Cell 7: Test the GroundTruthFileWriter by writing dummy selected matches\n",
    "\n",
    "# Create a test output directory if it doesn't exist\n",
    "test_output_dir = \"test_output\"\n",
    "if not os.path.exists(test_output_dir):\n",
    "    os.makedirs(test_output_dir)\n",
    "\n",
    "# Instantiate the GroundTruthFileWriter\n",
    "gt_writer = GroundTruthFileWriter(test_output_dir, debug=True)\n",
    "# Create dummy selected matches for testing\n",
    "dummy_selected_matches = [((10, 10), (20, 20)), ((30, 30), (40, 40))]\n",
    "gt_writer.write_ground_truth_file(\"pair_test\", dummy_selected_matches, debug=True)\n",
    "\n",
    "# Verify the written file by reading and printing its contents\n",
    "output_file = os.path.join(test_output_dir, \"pair_test_ground_truth.txt\")\n",
    "with open(output_file, 'r') as f:\n",
    "    content = f.read()\n",
    "print(\"Contents of the ground truth file:\\n\", content)\n"
   ]
  },
  {
   "cell_type": "code",
   "execution_count": 8,
   "metadata": {},
   "outputs": [
    {
     "name": "stdout",
     "output_type": "stream",
     "text": [
      "[DEBUG] Initializing GroundTruthGenerator with data_dir: test_data and backend_dir: test_output\n",
      "[DEBUG] Starting main processing loop...\n",
      "[DEBUG] Processing next image pair: pair_test\n",
      "[DEBUG] Starting processing for image pair: pair_test\n",
      "[DEBUG] Loaded images for pair pair_test: RGB image: [[[254   0   0]\n",
      "  [254   0   0]\n",
      "  [254   0   0]\n",
      "  ...\n",
      "  [254   0   0]\n",
      "  [254   0   0]\n",
      "  [254   0   0]]\n",
      "\n",
      " [[254   0   0]\n",
      "  [254   0   0]\n",
      "  [254   0   0]\n",
      "  ...\n",
      "  [254   0   0]\n",
      "  [254   0   0]\n",
      "  [254   0   0]]\n",
      "\n",
      " [[254   0   0]\n",
      "  [254   0   0]\n",
      "  [254   0   0]\n",
      "  ...\n",
      "  [254   0   0]\n",
      "  [254   0   0]\n",
      "  [254   0   0]]\n",
      "\n",
      " ...\n",
      "\n",
      " [[254   0   0]\n",
      "  [254   0   0]\n",
      "  [254   0   0]\n",
      "  ...\n",
      "  [254   0   0]\n",
      "  [254   0   0]\n",
      "  [254   0   0]]\n",
      "\n",
      " [[254   0   0]\n",
      "  [254   0   0]\n",
      "  [254   0   0]\n",
      "  ...\n",
      "  [254   0   0]\n",
      "  [254   0   0]\n",
      "  [254   0   0]]\n",
      "\n",
      " [[254   0   0]\n",
      "  [254   0   0]\n",
      "  [254   0   0]\n",
      "  ...\n",
      "  [254   0   0]\n",
      "  [254   0   0]\n",
      "  [254   0   0]]], Thermal image: [[[  0 255   1]\n",
      "  [  0 255   1]\n",
      "  [  0 255   1]\n",
      "  ...\n",
      "  [  0 255   1]\n",
      "  [  0 255   1]\n",
      "  [  0 255   1]]\n",
      "\n",
      " [[  0 255   1]\n",
      "  [  0 255   1]\n",
      "  [  0 255   1]\n",
      "  ...\n",
      "  [  0 255   1]\n",
      "  [  0 255   1]\n",
      "  [  0 255   1]]\n",
      "\n",
      " [[  0 255   1]\n",
      "  [  0 255   1]\n",
      "  [  0 255   1]\n",
      "  ...\n",
      "  [  0 255   1]\n",
      "  [  0 255   1]\n",
      "  [  0 255   1]]\n",
      "\n",
      " ...\n",
      "\n",
      " [[  0 255   1]\n",
      "  [  0 255   1]\n",
      "  [  0 255   1]\n",
      "  ...\n",
      "  [  0 255   1]\n",
      "  [  0 255   1]\n",
      "  [  0 255   1]]\n",
      "\n",
      " [[  0 255   1]\n",
      "  [  0 255   1]\n",
      "  [  0 255   1]\n",
      "  ...\n",
      "  [  0 255   1]\n",
      "  [  0 255   1]\n",
      "  [  0 255   1]]\n",
      "\n",
      " [[  0 255   1]\n",
      "  [  0 255   1]\n",
      "  [  0 255   1]\n",
      "  ...\n",
      "  [  0 255   1]\n",
      "  [  0 255   1]\n",
      "  [  0 255   1]]]\n",
      "[DEBUG] Extracted keypoints for RGB: () and Thermal: ()\n",
      "[DEBUG] Computed matches: []\n"
     ]
    },
    {
     "data": {
      "image/png": "[encoded data removed]",
      "text/plain": [
       "<Figure size 1000x800 with 1 Axes>"
      ]
     },
     "metadata": {},
     "output_type": "display_data"
    },
    {
     "name": "stdout",
     "output_type": "stream",
     "text": [
      "[DEBUG] Displayed matches. Awaiting user confirmation for match selection...\n",
      "[DEBUG] User selected matches: []\n",
      "[DEBUG] Ground truth file written for pair: pair_test\n",
      "[DEBUG] Displayed confirmation to user for pair: pair_test\n",
      "[DEBUG] Completed processing all image pairs.\n"
     ]
    }
   ],
   "source": [
    "# Cell 8: Test the full GroundTruthGenerator workflow\n",
    "\n",
    "# Instantiate GroundTruthGenerator with the test data and output directories\n",
    "gt_generator = GroundTruthGenerator(test_data_dir, test_output_dir, debug=True)\n",
    "\n",
    "# For testing purposes, override get_all_pair_ids to only return our dummy pair \"pair_test\"\n",
    "gt_generator.get_all_pair_ids = lambda debug=False: [\"pair_test\"]\n",
    "\n",
    "# Run the generator workflow.\n",
    "# Note: This cell will wait for interactive input (e.g., \"Press Enter...\" prompts).\n",
    "gt_generator.run(debug=True)\n"
   ]
  },
  {
   "cell_type": "code",
   "execution_count": null,
   "metadata": {},
   "outputs": [],
   "source": []
  }
 ],
 "metadata": {
  "kernelspec": {
   "display_name": "Python 3",
   "language": "python",
   "name": "python3"
  },
  "language_info": {
   "codemirror_mode": {
    "name": "ipython",
    "version": 3
   },
   "file_extension": ".py",
   "mimetype": "text/x-python",
   "name": "python",
   "nbconvert_exporter": "python",
   "pygments_lexer": "ipython3",
   "version": "3.11.4"
  }
 },
 "nbformat": 4,
 "nbformat_minor": 2
}
